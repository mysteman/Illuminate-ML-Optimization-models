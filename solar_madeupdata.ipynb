{
 "cells": [
  {
   "cell_type": "code",
   "execution_count": 3,
   "metadata": {},
   "outputs": [
    {
     "name": "stdout",
     "output_type": "stream",
     "text": [
      "           datetime  temp  humidity  windspeed  cloudcover        conditions  \\\n",
      "0  01-07-2024 00:00  31.0     79.33        7.6        50.0  Partially cloudy   \n",
      "1  01-07-2024 01:00  31.0     84.11        7.6        50.0  Partially cloudy   \n",
      "2  01-07-2024 02:00  30.7     78.99        2.2        82.3  Partially cloudy   \n",
      "3  01-07-2024 03:00  30.0     84.00        7.6        50.0  Partially cloudy   \n",
      "4  01-07-2024 04:00  29.0     88.99        7.6        50.0  Partially cloudy   \n",
      "\n",
      "   solar_radiation  solar_energy  uv_index  \n",
      "0              0.0           0.0       0.0  \n",
      "1              0.0           0.0       0.0  \n",
      "2              0.0           0.0       0.0  \n",
      "3              0.0           0.0       0.0  \n",
      "4              0.0           0.0       0.0  \n",
      "           datetime  temp  humidity  windspeed  cloudcover        conditions  \\\n",
      "0  01-07-2024 00:00  31.0     79.33        7.6        50.0  Partially cloudy   \n",
      "1  01-07-2024 01:00  31.0     84.11        7.6        50.0  Partially cloudy   \n",
      "2  01-07-2024 02:00  30.7     78.99        2.2        82.3  Partially cloudy   \n",
      "3  01-07-2024 03:00  30.0     84.00        7.6        50.0  Partially cloudy   \n",
      "4  01-07-2024 04:00  29.0     88.99        7.6        50.0  Partially cloudy   \n",
      "\n",
      "   solar_radiation  solar_energy  uv_index  ac_power_output_kW  \n",
      "0              0.0           0.0       0.0                 0.0  \n",
      "1              0.0           0.0       0.0                 0.0  \n",
      "2              0.0           0.0       0.0                 0.0  \n",
      "3              0.0           0.0       0.0                 0.0  \n",
      "4              0.0           0.0       0.0                 0.0  \n"
     ]
    }
   ],
   "source": [
    "import pandas as pd\n",
    "\n",
    "# Load the weather data from the uploaded CSV file\n",
    "file_path = 'solar_weather_data.csv'\n",
    "weather_data = pd.read_csv(file_path)\n",
    "\n",
    "# Display the first few rows of the data to understand its structure\n",
    "print(weather_data.head())\n",
    "\n",
    "# Function to simulate AC power output from solar panel based on weather data\n",
    "def simulate_solar_panel_output(row):\n",
    "    max_ac_power = 100.0  # in kW\n",
    "    cloud_factor = (100 - row['cloudcover']) / 100.0\n",
    "    solar_radiation_factor = row['solar_radiation'] / max(weather_data['solar_radiation'].max(), 1)\n",
    "    uv_factor = row['uv_index'] / max(weather_data['uv_index'].max(), 1)\n",
    "    ac_power_output = max_ac_power * cloud_factor * solar_radiation_factor * uv_factor\n",
    "    return ac_power_output\n",
    "\n",
    "# Apply the simulation function to the weather data\n",
    "weather_data['ac_power_output_kW'] = weather_data.apply(simulate_solar_panel_output, axis=1)\n",
    "\n",
    "# Function to parse multiple date formats\n",
    "def parse_date(date_str):\n",
    "    for fmt in ('%d-%m-%Y %H:%M', '%d/%m/%Y %H:%M'):\n",
    "        try:\n",
    "            return pd.to_datetime(date_str, format=fmt, dayfirst=True)  # Ensures day is first\n",
    "        except ValueError:\n",
    "            continue\n",
    "    raise ValueError(f\"Date format not recognized: {date_str}\")\n",
    "\n",
    "# Convert 'datetime' column to datetime type using the custom parser\n",
    "weather_data['datetime'] = weather_data['datetime'].apply(parse_date)\n",
    "\n",
    "# Set solar output to 0 for times between 19:00 and 5:00\n",
    "weather_data.loc[(weather_data['datetime'].dt.hour >= 19) | (weather_data['datetime'].dt.hour < 5), 'ac_power_output_kW'] = 0\n",
    "\n",
    "# Format the 'datetime' column to display only up to minutes\n",
    "weather_data['datetime'] = weather_data['datetime'].dt.strftime('%d-%m-%Y %H:%M')\n",
    "\n",
    "# Save all data points in the final CSV file, including the formatted datetime\n",
    "weather_data.to_csv('solar_madeupdata.csv', index=False)\n",
    "\n",
    "# Display the first few rows of the updated dataset with the simulated AC power output\n",
    "print(weather_data.head())\n"
   ]
  }
 ],
 "metadata": {
  "kernelspec": {
   "display_name": "Python 3",
   "language": "python",
   "name": "python3"
  },
  "language_info": {
   "codemirror_mode": {
    "name": "ipython",
    "version": 3
   },
   "file_extension": ".py",
   "mimetype": "text/x-python",
   "name": "python",
   "nbconvert_exporter": "python",
   "pygments_lexer": "ipython3",
   "version": "3.11.9"
  }
 },
 "nbformat": 4,
 "nbformat_minor": 2
}
